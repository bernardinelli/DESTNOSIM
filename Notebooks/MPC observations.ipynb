{
 "cells": [
  {
   "cell_type": "code",
   "execution_count": 12,
   "metadata": {},
   "outputs": [],
   "source": [
    "pl.style.use('/Users/pedro/Dropbox/DES/des.mplstyle')"
   ]
  },
  {
   "cell_type": "code",
   "execution_count": 1,
   "metadata": {},
   "outputs": [],
   "source": [
    "sys.path.append('../des/')\n",
    "sys.path.append('../tno/')"
   ]
  },
  {
   "cell_type": "markdown",
   "metadata": {},
   "source": [
    "Let's get an example script showing how to transform the Minor Planet Center TNO population to DES observations. The elements are from the MPC `distant_extended.json` file and transformed to 2016 elements by `HelioToBary`. One detail: the standard `$ORBITPP` `y4a1.exposure.positions.fits` doesn't really work, so change that to `alldes.exposure.positions.fits`. \n",
    "\n",
    "\n",
    "First, create the population."
   ]
  },
  {
   "cell_type": "code",
   "execution_count": 2,
   "metadata": {},
   "outputs": [],
   "source": [
    "import population as pop\n",
    "mpc_elements = tb.Table.read('mpc.fits')\n",
    "eldic = {'a' : mpc_elements['a'], 'e' : mpc_elements['e'], 'i' : mpc_elements['i'], 'lan' : mpc_elements['Node'], 'aop' : mpc_elements['Peri'], 'top' : mpc_elements['Tp']}\n",
    "\n",
    "mpc = pop.ElementPopulation(eldic, 16)"
   ]
  },
  {
   "cell_type": "markdown",
   "metadata": {},
   "source": [
    "Then, create the survey"
   ]
  },
  {
   "cell_type": "code",
   "execution_count": 3,
   "metadata": {},
   "outputs": [],
   "source": [
    "import des\n",
    "y4 = des.DES('y4a1')"
   ]
  },
  {
   "cell_type": "code",
   "execution_count": 4,
   "metadata": {},
   "outputs": [
    {
     "name": "stdout",
     "output_type": "stream",
     "text": [
      "/Users/pedro/Documents/Software/orbitspp/bin/DESTracks -cornerFile=/Users/pedro/Documents/Software/orbitspp/data/y4a1.ccdcorners.fits -exposureFile=/Users/pedro/Documents/Software/orbitspp/data/y4a1.exposure.positions.fits -tdb0=16 -positionFile=mpcobs.fits -readState=F < elements.txt\n"
     ]
    }
   ],
   "source": [
    "out = y4.createObservations(mpc, 'mpcobs.fits')"
   ]
  },
  {
   "cell_type": "code",
   "execution_count": 5,
   "metadata": {},
   "outputs": [
    {
     "data": {
      "text/html": [
       "&lt;Table length=7194&gt;\n",
       "<table id=\"table4742632400\" class=\"table-striped table-bordered table-condensed\">\n",
       "<thead><tr><th>CCDNUM</th><th>DEC</th><th>EXPNUM</th><th>ORBITID</th><th>RA</th><th>TDB</th></tr></thead>\n",
       "<thead><tr><th>int32</th><th>float64</th><th>int32</th><th>int64</th><th>float64</th><th>float64</th></tr></thead>\n",
       "<tr><td>3</td><td>-3.827419624798269</td><td>229723</td><td>2</td><td>8.859255689357301</td><td>13.669675068100561</td></tr>\n",
       "<tr><td>51</td><td>-3.892351564182717</td><td>231937</td><td>2</td><td>8.716937833783492</td><td>13.688470521924241</td></tr>\n",
       "<tr><td>18</td><td>-3.8924602705713656</td><td>231945</td><td>2</td><td>8.716689746431454</td><td>13.688501695804934</td></tr>\n",
       "<tr><td>6</td><td>-3.920607060818925</td><td>233128</td><td>2</td><td>8.652912068944445</td><td>13.696563346299198</td></tr>\n",
       "<tr><td>53</td><td>-4.0715132960179705</td><td>238948</td><td>2</td><td>8.288814396451045</td><td>13.740231223658759</td></tr>\n",
       "<tr><td>0</td><td>-4.116625168362312</td><td>240697</td><td>2</td><td>8.171900670290661</td><td>13.753863649064426</td></tr>\n",
       "<tr><td>32</td><td>-4.116768567817977</td><td>240708</td><td>2</td><td>8.171517285835002</td><td>13.753907693665015</td></tr>\n",
       "<tr><td>0</td><td>-4.202533199595512</td><td>243586</td><td>2</td><td>7.935956188538573</td><td>13.781583553651272</td></tr>\n",
       "<tr><td>0</td><td>-4.202544156153999</td><td>243587</td><td>2</td><td>7.93592426547547</td><td>13.78158730384951</td></tr>\n",
       "<tr><td>9</td><td>-4.3666994864074375</td><td>251795</td><td>2</td><td>7.3954239519108365</td><td>13.852590956041249</td></tr>\n",
       "<tr><td>...</td><td>...</td><td>...</td><td>...</td><td>...</td><td>...</td></tr>\n",
       "<tr><td>0</td><td>-50.26279083675646</td><td>485209</td><td>2890</td><td>-41.497532118904886</td><td>15.793344730993521</td></tr>\n",
       "<tr><td>0</td><td>-50.262736321241476</td><td>485210</td><td>2890</td><td>-41.49754692156657</td><td>15.793348462520685</td></tr>\n",
       "<tr><td>47</td><td>-49.155675471232215</td><td>573810</td><td>2890</td><td>-27.185858043453177</td><td>16.69716776138733</td></tr>\n",
       "<tr><td>49</td><td>-49.03837962923653</td><td>576905</td><td>2890</td><td>-28.147387191765272</td><td>16.732658099042624</td></tr>\n",
       "<tr><td>49</td><td>-49.0383586378539</td><td>576906</td><td>2890</td><td>-28.147481169675753</td><td>16.732661843190133</td></tr>\n",
       "<tr><td>49</td><td>-49.03833746708333</td><td>576907</td><td>2890</td><td>-28.14757589535973</td><td>16.73266561720881</td></tr>\n",
       "<tr><td>57</td><td>-48.346115370751704</td><td>584377</td><td>2890</td><td>-29.3824423972003</td><td>16.803655233390824</td></tr>\n",
       "<tr><td>57</td><td>-48.346064902149315</td><td>584378</td><td>2890</td><td>-29.382480288537923</td><td>16.803658988790698</td></tr>\n",
       "<tr><td>47</td><td>-48.11394606208794</td><td>586535</td><td>2890</td><td>-29.505583875166337</td><td>16.820063030982446</td></tr>\n",
       "<tr><td>47</td><td>-48.07364931730041</td><td>586926</td><td>2890</td><td>-29.519487634527017</td><td>16.82275925329674</td></tr>\n",
       "</table>"
      ],
      "text/plain": [
       "<Table length=7194>\n",
       "CCDNUM         DEC         EXPNUM ORBITID          RA                TDB        \n",
       "int32        float64       int32   int64        float64            float64      \n",
       "------ ------------------- ------ ------- ------------------- ------------------\n",
       "     3  -3.827419624798269 229723       2   8.859255689357301 13.669675068100561\n",
       "    51  -3.892351564182717 231937       2   8.716937833783492 13.688470521924241\n",
       "    18 -3.8924602705713656 231945       2   8.716689746431454 13.688501695804934\n",
       "     6  -3.920607060818925 233128       2   8.652912068944445 13.696563346299198\n",
       "    53 -4.0715132960179705 238948       2   8.288814396451045 13.740231223658759\n",
       "     0  -4.116625168362312 240697       2   8.171900670290661 13.753863649064426\n",
       "    32  -4.116768567817977 240708       2   8.171517285835002 13.753907693665015\n",
       "     0  -4.202533199595512 243586       2   7.935956188538573 13.781583553651272\n",
       "     0  -4.202544156153999 243587       2    7.93592426547547  13.78158730384951\n",
       "     9 -4.3666994864074375 251795       2  7.3954239519108365 13.852590956041249\n",
       "   ...                 ...    ...     ...                 ...                ...\n",
       "     0  -50.26279083675646 485209    2890 -41.497532118904886 15.793344730993521\n",
       "     0 -50.262736321241476 485210    2890  -41.49754692156657 15.793348462520685\n",
       "    47 -49.155675471232215 573810    2890 -27.185858043453177  16.69716776138733\n",
       "    49  -49.03837962923653 576905    2890 -28.147387191765272 16.732658099042624\n",
       "    49   -49.0383586378539 576906    2890 -28.147481169675753 16.732661843190133\n",
       "    49  -49.03833746708333 576907    2890  -28.14757589535973  16.73266561720881\n",
       "    57 -48.346115370751704 584377    2890   -29.3824423972003 16.803655233390824\n",
       "    57 -48.346064902149315 584378    2890 -29.382480288537923 16.803658988790698\n",
       "    47  -48.11394606208794 586535    2890 -29.505583875166337 16.820063030982446\n",
       "    47  -48.07364931730041 586926    2890 -29.519487634527017  16.82275925329674"
      ]
     },
     "execution_count": 5,
     "metadata": {},
     "output_type": "execute_result"
    }
   ],
   "source": [
    "out"
   ]
  },
  {
   "cell_type": "code",
   "execution_count": 10,
   "metadata": {},
   "outputs": [],
   "source": [
    "orb, c = np.unique(out['ORBITID'], return_counts=True)"
   ]
  },
  {
   "cell_type": "code",
   "execution_count": 13,
   "metadata": {},
   "outputs": [
    {
     "data": {
      "image/png": "[encoded data removed]",
      "text/plain": [
       "<matplotlib.figure.Figure at 0x11be6bc10>"
      ]
     },
     "metadata": {},
     "output_type": "display_data"
    }
   ],
   "source": [
    "pl.hist(c, bins=100)\n",
    "pl.show()"
   ]
  },
  {
   "cell_type": "code",
   "execution_count": 15,
   "metadata": {},
   "outputs": [
    {
     "data": {
      "text/plain": [
       "24"
      ]
     },
     "execution_count": 15,
     "metadata": {},
     "output_type": "execute_result"
    }
   ],
   "source": [
    "len(c[c < 6])"
   ]
  },
  {
   "cell_type": "code",
   "execution_count": 20,
   "metadata": {},
   "outputs": [
    {
     "data": {
      "image/png": "[encoded data removed]",
      "text/plain": [
       "<matplotlib.figure.Figure at 0x11bf47110>"
      ]
     },
     "metadata": {},
     "output_type": "display_data"
    }
   ],
   "source": [
    "pl.hist(mpc.elements[:,0], bins=100)\n",
    "pl.show()"
   ]
  },
  {
   "cell_type": "code",
   "execution_count": 22,
   "metadata": {},
   "outputs": [
    {
     "data": {
      "text/plain": [
       "array([1.55961292e+03, 9.76799973e-01, 2.06337442e+01, 3.36831766e+02,\n",
       "       1.33949767e+02, 2.43901077e+06])"
      ]
     },
     "execution_count": 22,
     "metadata": {},
     "output_type": "execute_result"
    }
   ],
   "source": [
    "mpc.elements[mpc.elements[:,0] > 1500][0]"
   ]
  },
  {
   "cell_type": "code",
   "execution_count": 23,
   "metadata": {},
   "outputs": [
    {
     "data": {
      "text/html": [
       "&lt;Table length=1&gt;\n",
       "<table id=\"table4744770512\" class=\"table-striped table-bordered table-condensed\">\n",
       "<thead><tr><th>a</th><th>e</th><th>Epoch</th><th>i</th><th>Name</th><th>Node</th><th>Number</th><th>Peri</th><th>Tp</th></tr></thead>\n",
       "<thead><tr><th>float64</th><th>float64</th><th>float64</th><th>float64</th><th>str14</th><th>float64</th><th>str8</th><th>float64</th><th>float64</th></tr></thead>\n",
       "<tr><td>1559.612916461782</td><td>0.9767999734025082</td><td>2457388.999210834</td><td>20.633744218795613</td><td>N/A</td><td>336.8317661924023</td><td>N/A</td><td>133.94976668435518</td><td>2439010.7655420667</td></tr>\n",
       "</table>"
      ],
      "text/plain": [
       "<Table length=1>\n",
       "        a                 e          ...        Peri                Tp        \n",
       "     float64           float64       ...      float64            float64      \n",
       "----------------- ------------------ ... ------------------ ------------------\n",
       "1559.612916461782 0.9767999734025082 ... 133.94976668435518 2439010.7655420667"
      ]
     },
     "execution_count": 23,
     "metadata": {},
     "output_type": "execute_result"
    }
   ],
   "source": [
    "mpc_elements[mpc_elements['a'] > 1500]"
   ]
  },
  {
   "cell_type": "code",
   "execution_count": null,
   "metadata": {},
   "outputs": [],
   "source": []
  }
 ],
 "metadata": {
  "kernelspec": {
   "display_name": "Python 2",
   "language": "python",
   "name": "python2"
  },
  "language_info": {
   "codemirror_mode": {
    "name": "ipython",
    "version": 2
   },
   "file_extension": ".py",
   "mimetype": "text/x-python",
   "name": "python",
   "nbconvert_exporter": "python",
   "pygments_lexer": "ipython2",
   "version": "2.7.15"
  }
 },
 "nbformat": 4,
 "nbformat_minor": 2
}
